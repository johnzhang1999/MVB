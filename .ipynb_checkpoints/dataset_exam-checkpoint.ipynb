{
 "cells": [
  {
   "cell_type": "code",
   "execution_count": 2,
   "metadata": {},
   "outputs": [],
   "source": [
    "from baseline import baseline\n",
    "from dataset import MVBDataset\n",
    "import matplotlib.pyplot as plt\n",
    "import tensorflow as tf\n",
    "import time\n",
    "\n",
    "# tf.disable_eager_execution()"
   ]
  },
  {
   "cell_type": "code",
   "execution_count": 3,
   "metadata": {
    "scrolled": false
   },
   "outputs": [
    {
     "name": "stdout",
     "output_type": "stream",
     "text": [
      "pos pair num: 18631\n",
      "neg pair num: 16614\n",
      "WARNING:tensorflow:From /usr/local/miniconda3/envs/dl/lib/python3.6/site-packages/tensorflow/python/data/ops/iterator_ops.py:532: colocate_with (from tensorflow.python.framework.ops) is deprecated and will be removed in a future version.\n",
      "Instructions for updating:\n",
      "Colocations handled automatically by placer.\n",
      "1\n",
      "1\n",
      "1\n",
      "1\n",
      "1\n",
      "1\n",
      "1\n",
      "1\n",
      "1\n",
      "1\n",
      "shape:  (TensorShape([Dimension(256), Dimension(256), Dimension(3)]), TensorShape([Dimension(256), Dimension(256), Dimension(3)]))\n",
      "type:  (tf.float32, tf.float32)\n",
      "\n",
      "<DatasetV1Adapter shapes: ((256, 256, 3), (256, 256, 3)), types: (tf.float32, tf.float32)>\n",
      "image shape:  (TensorShape([Dimension(256), Dimension(256), Dimension(3)]), TensorShape([Dimension(256), Dimension(256), Dimension(3)]))\n",
      "label shape:  ()\n",
      "types:  ((tf.float32, tf.float32), tf.int64)\n",
      "\n",
      "<DatasetV1Adapter shapes: (((256, 256, 3), (256, 256, 3)), ()), types: ((tf.float32, tf.float32), tf.int64)>\n",
      "pos pair num: 3183\n",
      "neg pair num: 3000\n",
      "1\n",
      "1\n",
      "1\n",
      "1\n",
      "1\n",
      "1\n",
      "1\n",
      "1\n",
      "1\n",
      "1\n",
      "shape:  (TensorShape([Dimension(256), Dimension(256), Dimension(3)]), TensorShape([Dimension(256), Dimension(256), Dimension(3)]))\n",
      "type:  (tf.float32, tf.float32)\n",
      "\n",
      "<DatasetV1Adapter shapes: ((256, 256, 3), (256, 256, 3)), types: (tf.float32, tf.float32)>\n",
      "image shape:  (TensorShape([Dimension(256), Dimension(256), Dimension(3)]), TensorShape([Dimension(256), Dimension(256), Dimension(3)]))\n",
      "label shape:  ()\n",
      "types:  ((tf.float32, tf.float32), tf.int64)\n",
      "\n",
      "<DatasetV1Adapter shapes: (((256, 256, 3), (256, 256, 3)), ()), types: ((tf.float32, tf.float32), tf.int64)>\n",
      "SIZES: 35145 100 6183\n"
     ]
    }
   ],
   "source": [
    "BATCH_SIZE = 1\n",
    "VAL_SIZE = 100\n",
    "\n",
    "# dataset\n",
    "\n",
    "dataset_train,num_train = MVBDataset(mode='train', preview=False, shuffle=True, batch_size=BATCH_SIZE)\n",
    "dataset_val = dataset_train.take(VAL_SIZE)\n",
    "dataset_train = dataset_train.skip(VAL_SIZE)\n",
    "num_train -= VAL_SIZE\n",
    "dataset_test,num_test = MVBDataset(mode='test', preview=False, shuffle=True, batch_size=BATCH_SIZE)\n",
    "print('SIZES:',num_train,VAL_SIZE,num_test)\n",
    "\n",
    "# min dataset\n",
    "# num_train = 3000\n",
    "# dataset_train = dataset_train.take(num_train)\n",
    "# dataset_val = dataset_train.skip(num_train).take(VAL_SIZE)\n",
    "# num_test = 300\n",
    "# dataset_test = dataset_train.skip(num_train).skip(VAL_SIZE).take(num_test)\n",
    "\n",
    "steps_per_epoch = num_train//BATCH_SIZE"
   ]
  },
  {
   "cell_type": "code",
   "execution_count": null,
   "metadata": {
    "scrolled": false
   },
   "outputs": [],
   "source": [
    "# visual examinations\n",
    "amt = 10\n",
    "\n",
    "plt.figure(figsize=(8,50))\n",
    "\n",
    "\n",
    "iterator = dataset_train.make_one_shot_iterator()\n",
    "for n in range(amt):\n",
    "    next_element = iterator.get_next()\n",
    "    (a,b),m = next_element\n",
    "#     print(a[0].shape,b[0].shape,m[0].shape)\n",
    "    plt.subplot(amt,2,2*n+1)\n",
    "    plt.imshow(a[0])\n",
    "    plt.grid(False)\n",
    "    plt.xticks([])\n",
    "    plt.yticks([])\n",
    "    plt.subplot(amt,2,2*n+2)\n",
    "    plt.imshow(b[0])\n",
    "    plt.grid(False)\n",
    "    plt.xticks([])\n",
    "    plt.yticks([])\n",
    "    plt.xlabel(str(m[0].numpy()))\n",
    "plt.show()"
   ]
  },
  {
   "cell_type": "code",
   "execution_count": null,
   "metadata": {},
   "outputs": [],
   "source": [
    "# performance gauge\n",
    "\n",
    "# def timeit(ds, batches=2*steps_per_epoch+1):\n",
    "#   overall_start = time.time()\n",
    "#   # Fetch a single batch to prime the pipeline (fill the shuffle buffer),\n",
    "#   # before starting the timer\n",
    "#   it = iter(ds.take(batches+1))\n",
    "#   next(it)\n",
    "#   print('finished fetching the first batch')\n",
    "#   start = time.time()\n",
    "#   for i,(images,labels) in enumerate(it):\n",
    "#     if i%10 == 0:\n",
    "#       print('.',end='')\n",
    "#   print()\n",
    "#   end = time.time()\n",
    "\n",
    "#   duration = end-start\n",
    "#   print(\"{} batches: {} s\".format(batches, duration))\n",
    "#   print(\"{:0.5f} Images/s\".format(BATCH_SIZE*batches/duration))\n",
    "#   print(\"Total time: {}s\".format(end-overall_start))\n",
    "\n",
    "# timeit(dataset_train) \n",
    "# # Well, there seems to be a serious problem with dataset performance..."
   ]
  }
 ],
 "metadata": {
  "kernelspec": {
   "display_name": "Python 3",
   "language": "python",
   "name": "python3"
  },
  "language_info": {
   "codemirror_mode": {
    "name": "ipython",
    "version": 3
   },
   "file_extension": ".py",
   "mimetype": "text/x-python",
   "name": "python",
   "nbconvert_exporter": "python",
   "pygments_lexer": "ipython3",
   "version": "3.6.6"
  }
 },
 "nbformat": 4,
 "nbformat_minor": 2
}
